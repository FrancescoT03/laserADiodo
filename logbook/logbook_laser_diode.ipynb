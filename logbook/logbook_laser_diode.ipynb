{
 "cells": [
  {
   "cell_type": "markdown",
   "id": "e773c172",
   "metadata": {},
   "source": [
    "# **DIODO LASER**\n",
    "\n",
    "Lo scopo di questo esperimento è lo studio delle caratteristiche di un diodo laser AlGaAs.\n",
    "\n",
    "L'esperimento si divide in tre parti:\n",
    "- Studio della curva P vs. I a tre diverse temperature (12°C, ambiente, 42°C)\n",
    "- Studio dell'allargamento del profilo del fascio laser, nelle direzioni parallela e perpendicolare al piano della giunzione\n",
    "- Acquisizione dello spettro di emissione del laser e studio della lunghezza d'onda di emissione in funzione della temperatura\n"
   ]
  },
  {
   "cell_type": "markdown",
   "id": "9bbeba08",
   "metadata": {},
   "source": [
    "## **Parte prima**\n",
    "\n",
    "In questa prima parte sono state acquisite delle misure della curva P-I (potenza emessa vs. corrente di iniezione) al variare della temperatura del diodo laser. Lo scopo è evidenziare lo spostamento della curva (in particolare della soglia del laser) al variare della temperatura, eventualmente evidenziando altre peculiarità delle misure acquisite.\n",
    "\n",
    "### **Setup sperimentale**\n",
    "Il setup sperimentale della prima parte di questo esperimento include:\n",
    "* Un diodo laser AlGaAs, montato su un opportuno telaio dotato di una lente per focalizzare il fascio\n",
    "* Una ventola di raffreddamento per evitare il surriscaldamento del laser\n",
    "* Un photodetector che misura la potenza del fascio laser incidente\n",
    "* Un driver che regola la corrente iniettata nella giunzione del laser (scala che va da 25 a 80 mA circa)\n",
    "* Cella di Peltier per cambiare la temperatura della giunzione (già montata)\n",
    "* Alimentatore per regolare la temperatura della cella di Peltier\n",
    "* Cartina fotosensibile\n",
    "\n",
    "### **Preparazione apparato sperimentale**\n",
    "Essendo il laser già montato nel telaio con la sua lente, l'unico passaggio da svolgere per preparare il setup è allineare il detector in modo che possa raccogliere al meglio la radiazione del laser. Per fare ciò è stata usata una cartina fotosensibile, che permette di vedere lo spot del laser altrimenti non visibile ad occhio nudo (la lunghezza d'onda di emission è nell'infrarosso). Il photodetector è stato posizionato in corrispondenza dello spot evidenziato sulla cartina e fissato sul banco ottico.\n",
    "\n",
    "### **Acquisizione misure**\n",
    "Una volta preparato il setup si è proceduto ad acquisire la curve P-I mantenendo il diodo laser a temperatura ambiente. Sono stati acquisiti vari punti impostando il generatore di corrente del laser a diversi di valori di corrente in una scala che va all'incirca dai 25 mA agli 80 mA: in corrispondenza di ogni valore di corrente è stata annotatala potenza misurata dal photodetector. Si è prestato ad infittire la spaziatura dei punti in corrispondenza della soglia del laser (attorno ai 50 mA). Di seguito il risultato della misura:\n",
    "\n",
    "INSERIRE PLOT P-I A TEMPERATURA AMBIENTE\n",
    "\n",
    "Dopodichè la stessa misura è stata acquisita accendendo la cella di Peltier e impostando dall'alimentatore la temperatura prima a 12°C a poi a 44°C, facendo attenzione a eventuali cambiamenti della temperatura della cella stessa.\n",
    "\n"
   ]
  },
  {
   "cell_type": "markdown",
   "id": "c8181f57",
   "metadata": {},
   "source": [
    "## **Parte seconda**\n",
    "\n",
    "Passaggi:\n",
    "Fissare il laser\n",
    "Allineare il rivelatore (verticalmente e orizzontalmente)\n",
    "Porre il polaroid tra laser e rivelatore\n",
    "Ruotare il laser così da misurare un minimo della corrente misurata\n",
    "Toglere il polaroid\n",
    "Ruotare il goniometro e acquisire misure di corrente in funzione dell'angolo di rotazione\n",
    "Plottare il profilo di intensità\n",
    "Ripetere i passaggi per misurare il profilo di intensità nella direzione ortogonale\n"
   ]
  },
  {
   "cell_type": "markdown",
   "id": "d0450a41",
   "metadata": {},
   "source": [
    "## **Parte terza**"
   ]
  }
 ],
 "metadata": {
  "language_info": {
   "name": "python"
  }
 },
 "nbformat": 4,
 "nbformat_minor": 5
}
